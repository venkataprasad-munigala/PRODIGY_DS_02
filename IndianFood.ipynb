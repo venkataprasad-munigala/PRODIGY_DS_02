{
 "cells": [
  {
   "cell_type": "markdown",
   "metadata": {},
   "source": [
    "# Indian Food Analysis\n",
    "\n",
    "[Dataset](https://www.kaggle.com/nehaprabhavalkar/indian-food-101) mainly focuses on Indian cuisine, encompassing a diverse range of dishes. It provides detailed information on various aspects such as the types of dishes, key ingredients utilized in their preparation, along with associated preparation and cooking times. This comprehensive dataset offers a holistic view of Indian culinary practices, transforming it into a captivating field for exploration and thorough analysis."
   ]
  },
  {
   "cell_type": "markdown",
   "metadata": {},
   "source": [
    "### Data Preparation and Cleaning"
   ]
  },
  {
   "cell_type": "code",
   "execution_count": 1,
   "metadata": {},
   "outputs": [],
   "source": [
    "# import libraries\n",
    "import pandas as pd\n",
    "import numpy as np\n",
    "import seaborn as sns\n",
    "import matplotlib\n",
    "import matplotlib.pyplot as plt\n",
    "%matplotlib inline\n",
    "\n",
    "import warnings\n",
    "warnings.filterwarnings('ignore')"
   ]
  },
  {
   "cell_type": "code",
   "execution_count": 2,
   "metadata": {},
   "outputs": [],
   "source": [
    "# read the dataset\n",
    "df = pd.read_csv('indian_food.csv')"
   ]
  },
  {
   "cell_type": "code",
   "execution_count": 3,
   "metadata": {},
   "outputs": [
    {
     "name": "stdout",
     "output_type": "stream",
     "text": [
      "<class 'pandas.core.frame.DataFrame'>\n",
      "RangeIndex: 255 entries, 0 to 254\n",
      "Data columns (total 9 columns):\n",
      " #   Column          Non-Null Count  Dtype \n",
      "---  ------          --------------  ----- \n",
      " 0   name            255 non-null    object\n",
      " 1   ingredients     255 non-null    object\n",
      " 2   diet            255 non-null    object\n",
      " 3   prep_time       255 non-null    int64 \n",
      " 4   cook_time       255 non-null    int64 \n",
      " 5   flavor_profile  255 non-null    object\n",
      " 6   course          255 non-null    object\n",
      " 7   state           255 non-null    object\n",
      " 8   region          254 non-null    object\n",
      "dtypes: int64(2), object(7)\n",
      "memory usage: 18.1+ KB\n"
     ]
    }
   ],
   "source": [
    "# info of dataset\n",
    "df.info()"
   ]
  },
  {
   "cell_type": "code",
   "execution_count": 4,
   "metadata": {},
   "outputs": [
    {
     "data": {
      "text/html": [
       "<div>\n",
       "<style scoped>\n",
       "    .dataframe tbody tr th:only-of-type {\n",
       "        vertical-align: middle;\n",
       "    }\n",
       "\n",
       "    .dataframe tbody tr th {\n",
       "        vertical-align: top;\n",
       "    }\n",
       "\n",
       "    .dataframe thead th {\n",
       "        text-align: right;\n",
       "    }\n",
       "</style>\n",
       "<table border=\"1\" class=\"dataframe\">\n",
       "  <thead>\n",
       "    <tr style=\"text-align: right;\">\n",
       "      <th></th>\n",
       "      <th>name</th>\n",
       "      <th>ingredients</th>\n",
       "      <th>diet</th>\n",
       "      <th>prep_time</th>\n",
       "      <th>cook_time</th>\n",
       "      <th>flavor_profile</th>\n",
       "      <th>course</th>\n",
       "      <th>state</th>\n",
       "      <th>region</th>\n",
       "    </tr>\n",
       "  </thead>\n",
       "  <tbody>\n",
       "    <tr>\n",
       "      <th>76</th>\n",
       "      <td>Butter chicken</td>\n",
       "      <td>Chicken, greek yogurt, cream, garam masala pow...</td>\n",
       "      <td>non vegetarian</td>\n",
       "      <td>10</td>\n",
       "      <td>35</td>\n",
       "      <td>spicy</td>\n",
       "      <td>main course</td>\n",
       "      <td>NCT of Delhi</td>\n",
       "      <td>North</td>\n",
       "    </tr>\n",
       "    <tr>\n",
       "      <th>153</th>\n",
       "      <td>Puli sadam</td>\n",
       "      <td>Urad dal, lemon, tamarind, cooked rice, curry ...</td>\n",
       "      <td>vegetarian</td>\n",
       "      <td>10</td>\n",
       "      <td>20</td>\n",
       "      <td>-1</td>\n",
       "      <td>main course</td>\n",
       "      <td>Tamil Nadu</td>\n",
       "      <td>South</td>\n",
       "    </tr>\n",
       "    <tr>\n",
       "      <th>192</th>\n",
       "      <td>Khandvi</td>\n",
       "      <td>Green chili paste, white sesame seeds, gram fl...</td>\n",
       "      <td>vegetarian</td>\n",
       "      <td>20</td>\n",
       "      <td>45</td>\n",
       "      <td>spicy</td>\n",
       "      <td>snack</td>\n",
       "      <td>Gujarat</td>\n",
       "      <td>West</td>\n",
       "    </tr>\n",
       "    <tr>\n",
       "      <th>177</th>\n",
       "      <td>Daal Dhokli</td>\n",
       "      <td>Whole wheat flour, dal, kokum, gur, bengal gra...</td>\n",
       "      <td>vegetarian</td>\n",
       "      <td>20</td>\n",
       "      <td>30</td>\n",
       "      <td>spicy</td>\n",
       "      <td>main course</td>\n",
       "      <td>Gujarat</td>\n",
       "      <td>West</td>\n",
       "    </tr>\n",
       "    <tr>\n",
       "      <th>65</th>\n",
       "      <td>Pork Bharta</td>\n",
       "      <td>Boiled pork, onions, chillies, ginger and garlic</td>\n",
       "      <td>non vegetarian</td>\n",
       "      <td>-1</td>\n",
       "      <td>-1</td>\n",
       "      <td>spicy</td>\n",
       "      <td>main course</td>\n",
       "      <td>Tripura</td>\n",
       "      <td>North East</td>\n",
       "    </tr>\n",
       "    <tr>\n",
       "      <th>235</th>\n",
       "      <td>Haq Maas</td>\n",
       "      <td>Lamb, garam masala powder, curd, turmeric, bay...</td>\n",
       "      <td>non vegetarian</td>\n",
       "      <td>20</td>\n",
       "      <td>40</td>\n",
       "      <td>spicy</td>\n",
       "      <td>main course</td>\n",
       "      <td>Assam</td>\n",
       "      <td>North East</td>\n",
       "    </tr>\n",
       "    <tr>\n",
       "      <th>246</th>\n",
       "      <td>Payokh</td>\n",
       "      <td>Basmati rice, rose water, sugar, clarified but...</td>\n",
       "      <td>vegetarian</td>\n",
       "      <td>-1</td>\n",
       "      <td>-1</td>\n",
       "      <td>sweet</td>\n",
       "      <td>dessert</td>\n",
       "      <td>Assam</td>\n",
       "      <td>North East</td>\n",
       "    </tr>\n",
       "    <tr>\n",
       "      <th>55</th>\n",
       "      <td>Anarsa</td>\n",
       "      <td>Rice flour, jaggery, khus-khus seeds</td>\n",
       "      <td>vegetarian</td>\n",
       "      <td>10</td>\n",
       "      <td>50</td>\n",
       "      <td>sweet</td>\n",
       "      <td>dessert</td>\n",
       "      <td>Maharashtra</td>\n",
       "      <td>West</td>\n",
       "    </tr>\n",
       "    <tr>\n",
       "      <th>100</th>\n",
       "      <td>Makki di roti sarson da saag</td>\n",
       "      <td>Palak, makki atta, mustard green, garam masala...</td>\n",
       "      <td>vegetarian</td>\n",
       "      <td>25</td>\n",
       "      <td>30</td>\n",
       "      <td>spicy</td>\n",
       "      <td>main course</td>\n",
       "      <td>Punjab</td>\n",
       "      <td>North</td>\n",
       "    </tr>\n",
       "    <tr>\n",
       "      <th>148</th>\n",
       "      <td>Paravannam</td>\n",
       "      <td>Raw rice,  jaggery, milk</td>\n",
       "      <td>vegetarian</td>\n",
       "      <td>-1</td>\n",
       "      <td>-1</td>\n",
       "      <td>spicy</td>\n",
       "      <td>main course</td>\n",
       "      <td>Kerala</td>\n",
       "      <td>South</td>\n",
       "    </tr>\n",
       "  </tbody>\n",
       "</table>\n",
       "</div>"
      ],
      "text/plain": [
       "                             name  \\\n",
       "76                 Butter chicken   \n",
       "153                    Puli sadam   \n",
       "192                       Khandvi   \n",
       "177                   Daal Dhokli   \n",
       "65                    Pork Bharta   \n",
       "235                      Haq Maas   \n",
       "246                        Payokh   \n",
       "55                         Anarsa   \n",
       "100  Makki di roti sarson da saag   \n",
       "148                    Paravannam   \n",
       "\n",
       "                                           ingredients            diet  \\\n",
       "76   Chicken, greek yogurt, cream, garam masala pow...  non vegetarian   \n",
       "153  Urad dal, lemon, tamarind, cooked rice, curry ...      vegetarian   \n",
       "192  Green chili paste, white sesame seeds, gram fl...      vegetarian   \n",
       "177  Whole wheat flour, dal, kokum, gur, bengal gra...      vegetarian   \n",
       "65    Boiled pork, onions, chillies, ginger and garlic  non vegetarian   \n",
       "235  Lamb, garam masala powder, curd, turmeric, bay...  non vegetarian   \n",
       "246  Basmati rice, rose water, sugar, clarified but...      vegetarian   \n",
       "55                Rice flour, jaggery, khus-khus seeds      vegetarian   \n",
       "100  Palak, makki atta, mustard green, garam masala...      vegetarian   \n",
       "148                           Raw rice,  jaggery, milk      vegetarian   \n",
       "\n",
       "     prep_time  cook_time flavor_profile       course         state  \\\n",
       "76          10         35          spicy  main course  NCT of Delhi   \n",
       "153         10         20             -1  main course    Tamil Nadu   \n",
       "192         20         45          spicy        snack       Gujarat   \n",
       "177         20         30          spicy  main course       Gujarat   \n",
       "65          -1         -1          spicy  main course       Tripura   \n",
       "235         20         40          spicy  main course         Assam   \n",
       "246         -1         -1          sweet      dessert         Assam   \n",
       "55          10         50          sweet      dessert   Maharashtra   \n",
       "100         25         30          spicy  main course        Punjab   \n",
       "148         -1         -1          spicy  main course        Kerala   \n",
       "\n",
       "         region  \n",
       "76        North  \n",
       "153       South  \n",
       "192        West  \n",
       "177        West  \n",
       "65   North East  \n",
       "235  North East  \n",
       "246  North East  \n",
       "55         West  \n",
       "100       North  \n",
       "148       South  "
      ]
     },
     "execution_count": 4,
     "metadata": {},
     "output_type": "execute_result"
    }
   ],
   "source": [
    "# sample rows of the dataset\n",
    "df.sample(10)"
   ]
  },
  {
   "cell_type": "code",
   "execution_count": 5,
   "metadata": {},
   "outputs": [],
   "source": [
    "# replacing -1 with 0, where ever -1 is a numerical type\n",
    "df = df.replace(to_replace = -1, value = 0 )"
   ]
  },
  {
   "cell_type": "code",
   "execution_count": 6,
   "metadata": {},
   "outputs": [
    {
     "data": {
      "text/html": [
       "<div>\n",
       "<style scoped>\n",
       "    .dataframe tbody tr th:only-of-type {\n",
       "        vertical-align: middle;\n",
       "    }\n",
       "\n",
       "    .dataframe tbody tr th {\n",
       "        vertical-align: top;\n",
       "    }\n",
       "\n",
       "    .dataframe thead th {\n",
       "        text-align: right;\n",
       "    }\n",
       "</style>\n",
       "<table border=\"1\" class=\"dataframe\">\n",
       "  <thead>\n",
       "    <tr style=\"text-align: right;\">\n",
       "      <th></th>\n",
       "      <th>prep_time</th>\n",
       "      <th>cook_time</th>\n",
       "    </tr>\n",
       "  </thead>\n",
       "  <tbody>\n",
       "    <tr>\n",
       "      <th>0</th>\n",
       "      <td>45</td>\n",
       "      <td>25</td>\n",
       "    </tr>\n",
       "    <tr>\n",
       "      <th>1</th>\n",
       "      <td>80</td>\n",
       "      <td>30</td>\n",
       "    </tr>\n",
       "    <tr>\n",
       "      <th>2</th>\n",
       "      <td>15</td>\n",
       "      <td>60</td>\n",
       "    </tr>\n",
       "    <tr>\n",
       "      <th>3</th>\n",
       "      <td>15</td>\n",
       "      <td>30</td>\n",
       "    </tr>\n",
       "    <tr>\n",
       "      <th>4</th>\n",
       "      <td>15</td>\n",
       "      <td>40</td>\n",
       "    </tr>\n",
       "    <tr>\n",
       "      <th>...</th>\n",
       "      <td>...</td>\n",
       "      <td>...</td>\n",
       "    </tr>\n",
       "    <tr>\n",
       "      <th>250</th>\n",
       "      <td>5</td>\n",
       "      <td>30</td>\n",
       "    </tr>\n",
       "    <tr>\n",
       "      <th>251</th>\n",
       "      <td>20</td>\n",
       "      <td>60</td>\n",
       "    </tr>\n",
       "    <tr>\n",
       "      <th>252</th>\n",
       "      <td>0</td>\n",
       "      <td>0</td>\n",
       "    </tr>\n",
       "    <tr>\n",
       "      <th>253</th>\n",
       "      <td>20</td>\n",
       "      <td>45</td>\n",
       "    </tr>\n",
       "    <tr>\n",
       "      <th>254</th>\n",
       "      <td>0</td>\n",
       "      <td>0</td>\n",
       "    </tr>\n",
       "  </tbody>\n",
       "</table>\n",
       "<p>255 rows × 2 columns</p>\n",
       "</div>"
      ],
      "text/plain": [
       "     prep_time  cook_time\n",
       "0           45         25\n",
       "1           80         30\n",
       "2           15         60\n",
       "3           15         30\n",
       "4           15         40\n",
       "..         ...        ...\n",
       "250          5         30\n",
       "251         20         60\n",
       "252          0          0\n",
       "253         20         45\n",
       "254          0          0\n",
       "\n",
       "[255 rows x 2 columns]"
      ]
     },
     "execution_count": 6,
     "metadata": {},
     "output_type": "execute_result"
    }
   ],
   "source": [
    "# all the values that were -1 in prep_time and cook_time have been converted to 0\n",
    "df[['prep_time', 'cook_time']]"
   ]
  },
  {
   "cell_type": "code",
   "execution_count": 7,
   "metadata": {},
   "outputs": [],
   "source": [
    "# this will replace all the values -1 as strings\n",
    "df['region'] = df['region'].str.replace('-1','not specified')\n",
    "df['state'] = df['state'].str.replace('-1','not specified')\n",
    "df['flavor_profile'] = df['flavor_profile'].str.replace('-1','not specified')"
   ]
  },
  {
   "cell_type": "code",
   "execution_count": 8,
   "metadata": {},
   "outputs": [
    {
     "data": {
      "text/plain": [
       "name              0\n",
       "ingredients       0\n",
       "diet              0\n",
       "prep_time         0\n",
       "cook_time         0\n",
       "flavor_profile    0\n",
       "course            0\n",
       "state             0\n",
       "region            1\n",
       "dtype: int64"
      ]
     },
     "execution_count": 8,
     "metadata": {},
     "output_type": "execute_result"
    }
   ],
   "source": [
    "df.isna().sum()"
   ]
  },
  {
   "cell_type": "code",
   "execution_count": 9,
   "metadata": {},
   "outputs": [
    {
     "data": {
      "text/plain": [
       "name              0\n",
       "ingredients       0\n",
       "diet              0\n",
       "prep_time         0\n",
       "cook_time         0\n",
       "flavor_profile    0\n",
       "course            0\n",
       "state             0\n",
       "region            0\n",
       "dtype: int64"
      ]
     },
     "execution_count": 9,
     "metadata": {},
     "output_type": "execute_result"
    }
   ],
   "source": [
    "# Replace NaN value in region with 'not specified'\n",
    "df['region'].fillna('not specified', inplace=True)\n",
    "\n",
    "df.isna().sum()"
   ]
  },
  {
   "cell_type": "markdown",
   "metadata": {},
   "source": [
    "### Exploratory Analysis and Visualization\n",
    "\n",
    "Let's dive into the data for a thorough analysis, aiming to extract valuable insights that will illuminate our understanding and guide informed decision-making."
   ]
  },
  {
   "cell_type": "code",
   "execution_count": 10,
   "metadata": {},
   "outputs": [],
   "source": [
    "# set the plt plot style\n",
    "\n",
    "sns.set_style('darkgrid')\n",
    "matplotlib.rcParams['font.size'] = 9\n",
    "matplotlib.rcParams['figure.figsize'] = (6, 5)\n",
    "matplotlib.rcParams['figure.facecolor'] = '#00000000'"
   ]
  },
  {
   "cell_type": "code",
   "execution_count": 11,
   "metadata": {},
   "outputs": [
    {
     "data": {
      "text/plain": [
       "diet\n",
       "vegetarian        226\n",
       "non vegetarian     29\n",
       "Name: count, dtype: int64"
      ]
     },
     "execution_count": 11,
     "metadata": {},
     "output_type": "execute_result"
    }
   ],
   "source": [
    "#counting vegetarian and non vegetarian dishes for bar chart\n",
    "veg_nonveg = df.diet.value_counts()\n",
    "veg_nonveg"
   ]
  },
  {
   "cell_type": "code",
   "execution_count": 12,
   "metadata": {},
   "outputs": [
    {
     "data": {
      "text/plain": [
       "<Axes: xlabel='diet', ylabel='count'>"
      ]
     },
     "execution_count": 12,
     "metadata": {},
     "output_type": "execute_result"
    },
    {
     "data": {
      "image/png": "[encoded data removed]",
      "text/plain": [
       "<Figure size 600x500 with 1 Axes>"
      ]
     },
     "metadata": {
      "needs_background": "light"
     },
     "output_type": "display_data"
    }
   ],
   "source": [
    "sns.barplot(x = veg_nonveg.index, y = veg_nonveg)"
   ]
  },
  {
   "cell_type": "code",
   "execution_count": 13,
   "metadata": {},
   "outputs": [
    {
     "data": {
      "text/plain": [
       "region\n",
       "West             74\n",
       "South            59\n",
       "North            49\n",
       "East             31\n",
       "North East       25\n",
       "not specified    14\n",
       "Central           3\n",
       "Name: count, dtype: int64"
      ]
     },
     "execution_count": 13,
     "metadata": {},
     "output_type": "execute_result"
    }
   ],
   "source": [
    "#counting region wise dishes\n",
    "region_values = df.region.value_counts()\n",
    "region_values"
   ]
  },
  {
   "cell_type": "code",
   "execution_count": 14,
   "metadata": {},
   "outputs": [
    {
     "data": {
      "image/png": "[encoded data removed]",
      "text/plain": [
       "<Figure size 600x500 with 1 Axes>"
      ]
     },
     "metadata": {},
     "output_type": "display_data"
    }
   ],
   "source": [
    "plt.pie(region_values, labels = region_values.index, autopct='%1.1f%%');"
   ]
  },
  {
   "cell_type": "code",
   "execution_count": 15,
   "metadata": {},
   "outputs": [
    {
     "data": {
      "text/plain": [
       "0       70\n",
       "1      110\n",
       "2       75\n",
       "3       45\n",
       "4       55\n",
       "      ... \n",
       "250     35\n",
       "251     80\n",
       "252      0\n",
       "253     65\n",
       "254      0\n",
       "Name: total_time, Length: 255, dtype: int64"
      ]
     },
     "execution_count": 15,
     "metadata": {},
     "output_type": "execute_result"
    }
   ],
   "source": [
    "df['total_time'] = df['prep_time']+ df['cook_time']\n",
    "df['total_time']"
   ]
  },
  {
   "cell_type": "code",
   "execution_count": 16,
   "metadata": {},
   "outputs": [
    {
     "data": {
      "text/html": [
       "<div>\n",
       "<style scoped>\n",
       "    .dataframe tbody tr th:only-of-type {\n",
       "        vertical-align: middle;\n",
       "    }\n",
       "\n",
       "    .dataframe tbody tr th {\n",
       "        vertical-align: top;\n",
       "    }\n",
       "\n",
       "    .dataframe thead th {\n",
       "        text-align: right;\n",
       "    }\n",
       "</style>\n",
       "<table border=\"1\" class=\"dataframe\">\n",
       "  <thead>\n",
       "    <tr style=\"text-align: right;\">\n",
       "      <th></th>\n",
       "      <th>name</th>\n",
       "      <th>ingredients</th>\n",
       "      <th>diet</th>\n",
       "      <th>prep_time</th>\n",
       "      <th>cook_time</th>\n",
       "      <th>flavor_profile</th>\n",
       "      <th>course</th>\n",
       "      <th>state</th>\n",
       "      <th>region</th>\n",
       "      <th>total_time</th>\n",
       "    </tr>\n",
       "  </thead>\n",
       "  <tbody>\n",
       "    <tr>\n",
       "      <th>62</th>\n",
       "      <td>Shrikhand</td>\n",
       "      <td>Curd, sugar, saffron, cardamom</td>\n",
       "      <td>vegetarian</td>\n",
       "      <td>10</td>\n",
       "      <td>720</td>\n",
       "      <td>sweet</td>\n",
       "      <td>dessert</td>\n",
       "      <td>Maharashtra</td>\n",
       "      <td>West</td>\n",
       "      <td>730</td>\n",
       "    </tr>\n",
       "    <tr>\n",
       "      <th>114</th>\n",
       "      <td>Pindi chana</td>\n",
       "      <td>Fennel, tea bags, tomato, kasuri methi, cinnamon</td>\n",
       "      <td>vegetarian</td>\n",
       "      <td>500</td>\n",
       "      <td>120</td>\n",
       "      <td>spicy</td>\n",
       "      <td>main course</td>\n",
       "      <td>Punjab</td>\n",
       "      <td>North</td>\n",
       "      <td>620</td>\n",
       "    </tr>\n",
       "    <tr>\n",
       "      <th>155</th>\n",
       "      <td>Puttu</td>\n",
       "      <td>Brown rice flour, sugar, grated coconut</td>\n",
       "      <td>vegetarian</td>\n",
       "      <td>495</td>\n",
       "      <td>40</td>\n",
       "      <td>not specified</td>\n",
       "      <td>main course</td>\n",
       "      <td>Kerala</td>\n",
       "      <td>South</td>\n",
       "      <td>535</td>\n",
       "    </tr>\n",
       "    <tr>\n",
       "      <th>29</th>\n",
       "      <td>Misti doi</td>\n",
       "      <td>Milk, jaggery</td>\n",
       "      <td>vegetarian</td>\n",
       "      <td>480</td>\n",
       "      <td>30</td>\n",
       "      <td>sweet</td>\n",
       "      <td>dessert</td>\n",
       "      <td>West Bengal</td>\n",
       "      <td>East</td>\n",
       "      <td>510</td>\n",
       "    </tr>\n",
       "    <tr>\n",
       "      <th>128</th>\n",
       "      <td>Dosa</td>\n",
       "      <td>Chana dal, urad dal, whole urad dal, blend ric...</td>\n",
       "      <td>vegetarian</td>\n",
       "      <td>360</td>\n",
       "      <td>90</td>\n",
       "      <td>spicy</td>\n",
       "      <td>snack</td>\n",
       "      <td>not specified</td>\n",
       "      <td>South</td>\n",
       "      <td>450</td>\n",
       "    </tr>\n",
       "    <tr>\n",
       "      <th>144</th>\n",
       "      <td>Masala Dosa</td>\n",
       "      <td>Chana dal, urad dal, potatoes, idli rice, thic...</td>\n",
       "      <td>vegetarian</td>\n",
       "      <td>360</td>\n",
       "      <td>90</td>\n",
       "      <td>spicy</td>\n",
       "      <td>snack</td>\n",
       "      <td>not specified</td>\n",
       "      <td>South</td>\n",
       "      <td>450</td>\n",
       "    </tr>\n",
       "    <tr>\n",
       "      <th>130</th>\n",
       "      <td>Idli</td>\n",
       "      <td>Split urad dal, urad dal, idli rice, thick poh...</td>\n",
       "      <td>vegetarian</td>\n",
       "      <td>360</td>\n",
       "      <td>90</td>\n",
       "      <td>spicy</td>\n",
       "      <td>snack</td>\n",
       "      <td>not specified</td>\n",
       "      <td>South</td>\n",
       "      <td>450</td>\n",
       "    </tr>\n",
       "    <tr>\n",
       "      <th>48</th>\n",
       "      <td>Poornalu</td>\n",
       "      <td>Chana dal, jaggery</td>\n",
       "      <td>vegetarian</td>\n",
       "      <td>240</td>\n",
       "      <td>60</td>\n",
       "      <td>sweet</td>\n",
       "      <td>dessert</td>\n",
       "      <td>Andhra Pradesh</td>\n",
       "      <td>South</td>\n",
       "      <td>300</td>\n",
       "    </tr>\n",
       "    <tr>\n",
       "      <th>66</th>\n",
       "      <td>Chak Hao Kheer</td>\n",
       "      <td>Rice, milk, sugar, cardamom</td>\n",
       "      <td>vegetarian</td>\n",
       "      <td>240</td>\n",
       "      <td>45</td>\n",
       "      <td>sweet</td>\n",
       "      <td>dessert</td>\n",
       "      <td>Manipur</td>\n",
       "      <td>North East</td>\n",
       "      <td>285</td>\n",
       "    </tr>\n",
       "    <tr>\n",
       "      <th>122</th>\n",
       "      <td>Tandoori Chicken</td>\n",
       "      <td>Greek yogurt, garam masala, kasuri methi, mari...</td>\n",
       "      <td>non vegetarian</td>\n",
       "      <td>240</td>\n",
       "      <td>30</td>\n",
       "      <td>spicy</td>\n",
       "      <td>main course</td>\n",
       "      <td>Punjab</td>\n",
       "      <td>North</td>\n",
       "      <td>270</td>\n",
       "    </tr>\n",
       "  </tbody>\n",
       "</table>\n",
       "</div>"
      ],
      "text/plain": [
       "                 name                                        ingredients  \\\n",
       "62          Shrikhand                     Curd, sugar, saffron, cardamom   \n",
       "114       Pindi chana   Fennel, tea bags, tomato, kasuri methi, cinnamon   \n",
       "155             Puttu            Brown rice flour, sugar, grated coconut   \n",
       "29          Misti doi                                      Milk, jaggery   \n",
       "128              Dosa  Chana dal, urad dal, whole urad dal, blend ric...   \n",
       "144       Masala Dosa  Chana dal, urad dal, potatoes, idli rice, thic...   \n",
       "130              Idli  Split urad dal, urad dal, idli rice, thick poh...   \n",
       "48           Poornalu                                 Chana dal, jaggery   \n",
       "66     Chak Hao Kheer                        Rice, milk, sugar, cardamom   \n",
       "122  Tandoori Chicken  Greek yogurt, garam masala, kasuri methi, mari...   \n",
       "\n",
       "               diet  prep_time  cook_time flavor_profile       course  \\\n",
       "62       vegetarian         10        720          sweet      dessert   \n",
       "114      vegetarian        500        120          spicy  main course   \n",
       "155      vegetarian        495         40  not specified  main course   \n",
       "29       vegetarian        480         30          sweet      dessert   \n",
       "128      vegetarian        360         90          spicy        snack   \n",
       "144      vegetarian        360         90          spicy        snack   \n",
       "130      vegetarian        360         90          spicy        snack   \n",
       "48       vegetarian        240         60          sweet      dessert   \n",
       "66       vegetarian        240         45          sweet      dessert   \n",
       "122  non vegetarian        240         30          spicy  main course   \n",
       "\n",
       "              state      region  total_time  \n",
       "62      Maharashtra        West         730  \n",
       "114          Punjab       North         620  \n",
       "155          Kerala       South         535  \n",
       "29      West Bengal        East         510  \n",
       "128   not specified       South         450  \n",
       "144   not specified       South         450  \n",
       "130   not specified       South         450  \n",
       "48   Andhra Pradesh       South         300  \n",
       "66          Manipur  North East         285  \n",
       "122          Punjab       North         270  "
      ]
     },
     "execution_count": 16,
     "metadata": {},
     "output_type": "execute_result"
    }
   ],
   "source": [
    "df.sort_values('total_time', ascending = False).head(10)"
   ]
  },
  {
   "cell_type": "code",
   "execution_count": 17,
   "metadata": {},
   "outputs": [
    {
     "data": {
      "text/plain": [
       "0                      [Maida flour, yogurt, oil, sugar]\n",
       "1                              [Gram flour, ghee, sugar]\n",
       "2         [Carrots, milk, sugar, ghee, cashews, raisins]\n",
       "3      [Flour, ghee, kewra, milk, clarified butter, s...\n",
       "4      [Milk powder, plain flour, baking powder, ghee...\n",
       "                             ...                        \n",
       "250            [Glutinous rice, black sesame seeds, gur]\n",
       "251    [Coconut milk, egg yolks, clarified butter, al...\n",
       "252    [Cottage cheese, dry dates, dried rose petals,...\n",
       "253    [Milk powder, dry fruits, arrowroot powder, al...\n",
       "254    [Brown rice, fennel seeds, grated coconut, bla...\n",
       "Name: ing_list, Length: 255, dtype: object"
      ]
     },
     "execution_count": 17,
     "metadata": {},
     "output_type": "execute_result"
    }
   ],
   "source": [
    "df['ing_list'] = df['ingredients'].apply(lambda x: x.split(', '))\n",
    "df['ing_list']"
   ]
  },
  {
   "cell_type": "code",
   "execution_count": 18,
   "metadata": {},
   "outputs": [
    {
     "data": {
      "text/html": [
       "<div>\n",
       "<style scoped>\n",
       "    .dataframe tbody tr th:only-of-type {\n",
       "        vertical-align: middle;\n",
       "    }\n",
       "\n",
       "    .dataframe tbody tr th {\n",
       "        vertical-align: top;\n",
       "    }\n",
       "\n",
       "    .dataframe thead th {\n",
       "        text-align: right;\n",
       "    }\n",
       "</style>\n",
       "<table border=\"1\" class=\"dataframe\">\n",
       "  <thead>\n",
       "    <tr style=\"text-align: right;\">\n",
       "      <th></th>\n",
       "      <th>name</th>\n",
       "      <th>ingredients</th>\n",
       "      <th>diet</th>\n",
       "      <th>prep_time</th>\n",
       "      <th>cook_time</th>\n",
       "      <th>flavor_profile</th>\n",
       "      <th>course</th>\n",
       "      <th>state</th>\n",
       "      <th>region</th>\n",
       "      <th>total_time</th>\n",
       "      <th>ing_list</th>\n",
       "      <th>no_of_ing</th>\n",
       "    </tr>\n",
       "  </thead>\n",
       "  <tbody>\n",
       "    <tr>\n",
       "      <th>0</th>\n",
       "      <td>Balu shahi</td>\n",
       "      <td>Maida flour, yogurt, oil, sugar</td>\n",
       "      <td>vegetarian</td>\n",
       "      <td>45</td>\n",
       "      <td>25</td>\n",
       "      <td>sweet</td>\n",
       "      <td>dessert</td>\n",
       "      <td>West Bengal</td>\n",
       "      <td>East</td>\n",
       "      <td>70</td>\n",
       "      <td>[Maida flour, yogurt, oil, sugar]</td>\n",
       "      <td>4</td>\n",
       "    </tr>\n",
       "    <tr>\n",
       "      <th>1</th>\n",
       "      <td>Boondi</td>\n",
       "      <td>Gram flour, ghee, sugar</td>\n",
       "      <td>vegetarian</td>\n",
       "      <td>80</td>\n",
       "      <td>30</td>\n",
       "      <td>sweet</td>\n",
       "      <td>dessert</td>\n",
       "      <td>Rajasthan</td>\n",
       "      <td>West</td>\n",
       "      <td>110</td>\n",
       "      <td>[Gram flour, ghee, sugar]</td>\n",
       "      <td>3</td>\n",
       "    </tr>\n",
       "    <tr>\n",
       "      <th>2</th>\n",
       "      <td>Gajar ka halwa</td>\n",
       "      <td>Carrots, milk, sugar, ghee, cashews, raisins</td>\n",
       "      <td>vegetarian</td>\n",
       "      <td>15</td>\n",
       "      <td>60</td>\n",
       "      <td>sweet</td>\n",
       "      <td>dessert</td>\n",
       "      <td>Punjab</td>\n",
       "      <td>North</td>\n",
       "      <td>75</td>\n",
       "      <td>[Carrots, milk, sugar, ghee, cashews, raisins]</td>\n",
       "      <td>6</td>\n",
       "    </tr>\n",
       "    <tr>\n",
       "      <th>3</th>\n",
       "      <td>Ghevar</td>\n",
       "      <td>Flour, ghee, kewra, milk, clarified butter, su...</td>\n",
       "      <td>vegetarian</td>\n",
       "      <td>15</td>\n",
       "      <td>30</td>\n",
       "      <td>sweet</td>\n",
       "      <td>dessert</td>\n",
       "      <td>Rajasthan</td>\n",
       "      <td>West</td>\n",
       "      <td>45</td>\n",
       "      <td>[Flour, ghee, kewra, milk, clarified butter, s...</td>\n",
       "      <td>10</td>\n",
       "    </tr>\n",
       "    <tr>\n",
       "      <th>4</th>\n",
       "      <td>Gulab jamun</td>\n",
       "      <td>Milk powder, plain flour, baking powder, ghee,...</td>\n",
       "      <td>vegetarian</td>\n",
       "      <td>15</td>\n",
       "      <td>40</td>\n",
       "      <td>sweet</td>\n",
       "      <td>dessert</td>\n",
       "      <td>West Bengal</td>\n",
       "      <td>East</td>\n",
       "      <td>55</td>\n",
       "      <td>[Milk powder, plain flour, baking powder, ghee...</td>\n",
       "      <td>8</td>\n",
       "    </tr>\n",
       "    <tr>\n",
       "      <th>...</th>\n",
       "      <td>...</td>\n",
       "      <td>...</td>\n",
       "      <td>...</td>\n",
       "      <td>...</td>\n",
       "      <td>...</td>\n",
       "      <td>...</td>\n",
       "      <td>...</td>\n",
       "      <td>...</td>\n",
       "      <td>...</td>\n",
       "      <td>...</td>\n",
       "      <td>...</td>\n",
       "      <td>...</td>\n",
       "    </tr>\n",
       "    <tr>\n",
       "      <th>250</th>\n",
       "      <td>Til Pitha</td>\n",
       "      <td>Glutinous rice, black sesame seeds, gur</td>\n",
       "      <td>vegetarian</td>\n",
       "      <td>5</td>\n",
       "      <td>30</td>\n",
       "      <td>sweet</td>\n",
       "      <td>dessert</td>\n",
       "      <td>Assam</td>\n",
       "      <td>North East</td>\n",
       "      <td>35</td>\n",
       "      <td>[Glutinous rice, black sesame seeds, gur]</td>\n",
       "      <td>3</td>\n",
       "    </tr>\n",
       "    <tr>\n",
       "      <th>251</th>\n",
       "      <td>Bebinca</td>\n",
       "      <td>Coconut milk, egg yolks, clarified butter, all...</td>\n",
       "      <td>vegetarian</td>\n",
       "      <td>20</td>\n",
       "      <td>60</td>\n",
       "      <td>sweet</td>\n",
       "      <td>dessert</td>\n",
       "      <td>Goa</td>\n",
       "      <td>West</td>\n",
       "      <td>80</td>\n",
       "      <td>[Coconut milk, egg yolks, clarified butter, al...</td>\n",
       "      <td>4</td>\n",
       "    </tr>\n",
       "    <tr>\n",
       "      <th>252</th>\n",
       "      <td>Shufta</td>\n",
       "      <td>Cottage cheese, dry dates, dried rose petals, ...</td>\n",
       "      <td>vegetarian</td>\n",
       "      <td>0</td>\n",
       "      <td>0</td>\n",
       "      <td>sweet</td>\n",
       "      <td>dessert</td>\n",
       "      <td>Jammu &amp; Kashmir</td>\n",
       "      <td>North</td>\n",
       "      <td>0</td>\n",
       "      <td>[Cottage cheese, dry dates, dried rose petals,...</td>\n",
       "      <td>5</td>\n",
       "    </tr>\n",
       "    <tr>\n",
       "      <th>253</th>\n",
       "      <td>Mawa Bati</td>\n",
       "      <td>Milk powder, dry fruits, arrowroot powder, all...</td>\n",
       "      <td>vegetarian</td>\n",
       "      <td>20</td>\n",
       "      <td>45</td>\n",
       "      <td>sweet</td>\n",
       "      <td>dessert</td>\n",
       "      <td>Madhya Pradesh</td>\n",
       "      <td>Central</td>\n",
       "      <td>65</td>\n",
       "      <td>[Milk powder, dry fruits, arrowroot powder, al...</td>\n",
       "      <td>4</td>\n",
       "    </tr>\n",
       "    <tr>\n",
       "      <th>254</th>\n",
       "      <td>Pinaca</td>\n",
       "      <td>Brown rice, fennel seeds, grated coconut, blac...</td>\n",
       "      <td>vegetarian</td>\n",
       "      <td>0</td>\n",
       "      <td>0</td>\n",
       "      <td>sweet</td>\n",
       "      <td>dessert</td>\n",
       "      <td>Goa</td>\n",
       "      <td>West</td>\n",
       "      <td>0</td>\n",
       "      <td>[Brown rice, fennel seeds, grated coconut, bla...</td>\n",
       "      <td>5</td>\n",
       "    </tr>\n",
       "  </tbody>\n",
       "</table>\n",
       "<p>255 rows × 12 columns</p>\n",
       "</div>"
      ],
      "text/plain": [
       "               name                                        ingredients  \\\n",
       "0        Balu shahi                    Maida flour, yogurt, oil, sugar   \n",
       "1            Boondi                            Gram flour, ghee, sugar   \n",
       "2    Gajar ka halwa       Carrots, milk, sugar, ghee, cashews, raisins   \n",
       "3            Ghevar  Flour, ghee, kewra, milk, clarified butter, su...   \n",
       "4       Gulab jamun  Milk powder, plain flour, baking powder, ghee,...   \n",
       "..              ...                                                ...   \n",
       "250       Til Pitha            Glutinous rice, black sesame seeds, gur   \n",
       "251         Bebinca  Coconut milk, egg yolks, clarified butter, all...   \n",
       "252          Shufta  Cottage cheese, dry dates, dried rose petals, ...   \n",
       "253       Mawa Bati  Milk powder, dry fruits, arrowroot powder, all...   \n",
       "254          Pinaca  Brown rice, fennel seeds, grated coconut, blac...   \n",
       "\n",
       "           diet  prep_time  cook_time flavor_profile   course  \\\n",
       "0    vegetarian         45         25          sweet  dessert   \n",
       "1    vegetarian         80         30          sweet  dessert   \n",
       "2    vegetarian         15         60          sweet  dessert   \n",
       "3    vegetarian         15         30          sweet  dessert   \n",
       "4    vegetarian         15         40          sweet  dessert   \n",
       "..          ...        ...        ...            ...      ...   \n",
       "250  vegetarian          5         30          sweet  dessert   \n",
       "251  vegetarian         20         60          sweet  dessert   \n",
       "252  vegetarian          0          0          sweet  dessert   \n",
       "253  vegetarian         20         45          sweet  dessert   \n",
       "254  vegetarian          0          0          sweet  dessert   \n",
       "\n",
       "               state      region  total_time  \\\n",
       "0        West Bengal        East          70   \n",
       "1          Rajasthan        West         110   \n",
       "2             Punjab       North          75   \n",
       "3          Rajasthan        West          45   \n",
       "4        West Bengal        East          55   \n",
       "..               ...         ...         ...   \n",
       "250            Assam  North East          35   \n",
       "251              Goa        West          80   \n",
       "252  Jammu & Kashmir       North           0   \n",
       "253   Madhya Pradesh     Central          65   \n",
       "254              Goa        West           0   \n",
       "\n",
       "                                              ing_list  no_of_ing  \n",
       "0                    [Maida flour, yogurt, oil, sugar]          4  \n",
       "1                            [Gram flour, ghee, sugar]          3  \n",
       "2       [Carrots, milk, sugar, ghee, cashews, raisins]          6  \n",
       "3    [Flour, ghee, kewra, milk, clarified butter, s...         10  \n",
       "4    [Milk powder, plain flour, baking powder, ghee...          8  \n",
       "..                                                 ...        ...  \n",
       "250          [Glutinous rice, black sesame seeds, gur]          3  \n",
       "251  [Coconut milk, egg yolks, clarified butter, al...          4  \n",
       "252  [Cottage cheese, dry dates, dried rose petals,...          5  \n",
       "253  [Milk powder, dry fruits, arrowroot powder, al...          4  \n",
       "254  [Brown rice, fennel seeds, grated coconut, bla...          5  \n",
       "\n",
       "[255 rows x 12 columns]"
      ]
     },
     "execution_count": 18,
     "metadata": {},
     "output_type": "execute_result"
    }
   ],
   "source": [
    "df['no_of_ing']= df.ing_list.str.len()\n",
    "df"
   ]
  },
  {
   "cell_type": "code",
   "execution_count": 19,
   "metadata": {},
   "outputs": [
    {
     "data": {
      "text/html": [
       "<div>\n",
       "<style scoped>\n",
       "    .dataframe tbody tr th:only-of-type {\n",
       "        vertical-align: middle;\n",
       "    }\n",
       "\n",
       "    .dataframe tbody tr th {\n",
       "        vertical-align: top;\n",
       "    }\n",
       "\n",
       "    .dataframe thead th {\n",
       "        text-align: right;\n",
       "    }\n",
       "</style>\n",
       "<table border=\"1\" class=\"dataframe\">\n",
       "  <thead>\n",
       "    <tr style=\"text-align: right;\">\n",
       "      <th></th>\n",
       "      <th>name</th>\n",
       "      <th>ingredients</th>\n",
       "      <th>diet</th>\n",
       "      <th>prep_time</th>\n",
       "      <th>cook_time</th>\n",
       "      <th>flavor_profile</th>\n",
       "      <th>course</th>\n",
       "      <th>state</th>\n",
       "      <th>region</th>\n",
       "      <th>total_time</th>\n",
       "      <th>ing_list</th>\n",
       "      <th>no_of_ing</th>\n",
       "    </tr>\n",
       "  </thead>\n",
       "  <tbody>\n",
       "    <tr>\n",
       "      <th>3</th>\n",
       "      <td>Ghevar</td>\n",
       "      <td>Flour, ghee, kewra, milk, clarified butter, su...</td>\n",
       "      <td>vegetarian</td>\n",
       "      <td>15</td>\n",
       "      <td>30</td>\n",
       "      <td>sweet</td>\n",
       "      <td>dessert</td>\n",
       "      <td>Rajasthan</td>\n",
       "      <td>West</td>\n",
       "      <td>45</td>\n",
       "      <td>[Flour, ghee, kewra, milk, clarified butter, s...</td>\n",
       "      <td>10</td>\n",
       "    </tr>\n",
       "  </tbody>\n",
       "</table>\n",
       "</div>"
      ],
      "text/plain": [
       "     name                                        ingredients        diet  \\\n",
       "3  Ghevar  Flour, ghee, kewra, milk, clarified butter, su...  vegetarian   \n",
       "\n",
       "   prep_time  cook_time flavor_profile   course      state region  total_time  \\\n",
       "3         15         30          sweet  dessert  Rajasthan   West          45   \n",
       "\n",
       "                                            ing_list  no_of_ing  \n",
       "3  [Flour, ghee, kewra, milk, clarified butter, s...         10  "
      ]
     },
     "execution_count": 19,
     "metadata": {},
     "output_type": "execute_result"
    }
   ],
   "source": [
    "df.sort_values('no_of_ing', ascending = False).head(1)"
   ]
  },
  {
   "cell_type": "code",
   "execution_count": 20,
   "metadata": {},
   "outputs": [
    {
     "data": {
      "image/png": "[encoded data removed]",
      "text/plain": [
       "<Figure size 600x500 with 1 Axes>"
      ]
     },
     "metadata": {
      "needs_background": "light"
     },
     "output_type": "display_data"
    }
   ],
   "source": [
    "sns.scatterplot(x = df.prep_time, y = df.cook_time);"
   ]
  },
  {
   "cell_type": "code",
   "execution_count": 21,
   "metadata": {},
   "outputs": [
    {
     "data": {
      "image/png": "[encoded data removed]",
      "text/plain": [
       "<Figure size 600x500 with 1 Axes>"
      ]
     },
     "metadata": {
      "needs_background": "light"
     },
     "output_type": "display_data"
    }
   ],
   "source": [
    "sns.lineplot(x='flavor_profile', y='total_time', data=df);"
   ]
  },
  {
   "cell_type": "code",
   "execution_count": 22,
   "metadata": {},
   "outputs": [
    {
     "data": {
      "text/plain": [
       "flavor_profile\n",
       "spicy            133\n",
       "sweet             88\n",
       "not specified     29\n",
       "bitter             4\n",
       "sour               1\n",
       "Name: count, dtype: int64"
      ]
     },
     "execution_count": 22,
     "metadata": {},
     "output_type": "execute_result"
    }
   ],
   "source": [
    "flavor_values = df.flavor_profile.value_counts()\n",
    "flavor_values"
   ]
  },
  {
   "cell_type": "code",
   "execution_count": 23,
   "metadata": {},
   "outputs": [
    {
     "data": {
      "image/png": "[encoded data removed]",
      "text/plain": [
       "<Figure size 1000x600 with 1 Axes>"
      ]
     },
     "metadata": {},
     "output_type": "display_data"
    }
   ],
   "source": [
    "plt.figure(figsize=(10,6))\n",
    "plt.pie(flavor_values, labels = flavor_values.index, autopct='%1.1f%%');"
   ]
  },
  {
   "cell_type": "code",
   "execution_count": 24,
   "metadata": {},
   "outputs": [
    {
     "data": {
      "text/plain": [
       "course\n",
       "main course    129\n",
       "dessert         85\n",
       "snack           39\n",
       "starter          2\n",
       "Name: count, dtype: int64"
      ]
     },
     "execution_count": 24,
     "metadata": {},
     "output_type": "execute_result"
    }
   ],
   "source": [
    "course_values = df.course.value_counts()\n",
    "course_values"
   ]
  },
  {
   "cell_type": "code",
   "execution_count": 25,
   "metadata": {},
   "outputs": [
    {
     "data": {
      "image/png": "[encoded data removed]",
      "text/plain": [
       "<Figure size 600x500 with 1 Axes>"
      ]
     },
     "metadata": {
      "needs_background": "light"
     },
     "output_type": "display_data"
    }
   ],
   "source": [
    "sns.barplot(x = course_values.index, y = course_values);"
   ]
  },
  {
   "cell_type": "markdown",
   "metadata": {},
   "source": [
    "### Insights\n",
    "\n",
    "> 1. Is indian food primarily Vegetarian or Non Vegetarian?\n",
    "- Vegetarian\n",
    "> 2. Which region has the most varities of food in India?\n",
    "- West region \n",
    "> 3. Top 10 dishes which takes most time to prepare.\n",
    "- Shrikhand\n",
    "> 4. Which dish requires the most number of ingredients to make?\n",
    "- Ghevar\n",
    "> 5. Comparing cook time and prep time of dishes\n",
    "- Most dishes' cooktime is less then 150 mins with one exception which takes more than 700 minutes to cook.\n",
    "- Preptime has high variability\n",
    "> 6. Trying to see which flavor profile food takes usually maximum time to prepare?\n",
    "- Desserts / Sweets\n",
    "> 7. Flavor wise breakdown of food items using piechart.\n",
    "- Indian foods are mostly spicy\n",
    "> 8. What meal(main course, starter etc.) is the Indian food considered primarily?\n",
    "- Indian food is mostly a main course meal, followed by dessert."
   ]
  },
  {
   "cell_type": "code",
   "execution_count": null,
   "metadata": {},
   "outputs": [],
   "source": []
  },
  {
   "cell_type": "code",
   "execution_count": null,
   "metadata": {},
   "outputs": [],
   "source": []
  }
 ],
 "metadata": {
  "kernelspec": {
   "display_name": "Python 3",
   "language": "python",
   "name": "python3"
  },
  "language_info": {
   "codemirror_mode": {
    "name": "ipython",
    "version": 3
   },
   "file_extension": ".py",
   "mimetype": "text/x-python",
   "name": "python",
   "nbconvert_exporter": "python",
   "pygments_lexer": "ipython3",
   "version": "3.11.1"
  }
 },
 "nbformat": 4,
 "nbformat_minor": 2
}
